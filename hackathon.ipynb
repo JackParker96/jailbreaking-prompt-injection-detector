{
 "cells": [
  {
   "cell_type": "code",
   "execution_count": 1,
   "id": "e47d5bb8-22d7-47d0-b4d7-7970c96d4292",
   "metadata": {},
   "outputs": [],
   "source": [
    "import numpy as np\n",
    "import pandas as pd\n",
    "from sklearn.model_selection import train_test_split\n",
    "from sklearn.feature_extraction.text import TfidfVectorizer\n",
    "from sklearn.linear_model import LogisticRegression\n",
    "from sklearn.metrics import accuracy_score, classification_report, confusion_matrix"
   ]
  },
  {
   "cell_type": "code",
   "execution_count": 2,
   "id": "db9836a0-e8dd-49e6-9b4b-8a048fae5307",
   "metadata": {},
   "outputs": [],
   "source": [
    "# Benign prompts\n",
    "df1 = pd.read_csv(\"hackathon/prompts/benign/prompts/good\", header=None, sep=\"\\t\")\n",
    "df2 = pd.read_csv(\"hackathon/prompts/benign/prompts/bad\", header=None, sep=\"\\t\")\n",
    "df3 = pd.read_csv(\"hackathon/prompts/benign/good_adj_mal/good_adj_mal_1\", header=None, sep=\"\\t\")\n",
    "df4 = pd.read_csv(\"hackathon/prompts/benign/good_adj_mal/good_adj_mal_2\", header=None, sep=\"\\t\")\n",
    "df5 = pd.read_csv(\"hackathon/prompts/benign/good_adj_mal/good_adj_mal_3\", header=None, sep=\"\\t\")\n",
    "df6 = pd.read_csv(\"hackathon/prompts/benign/good_adj_mal/good_adj_mal_4\", header=None, sep=\"\\t\")\n",
    "df7 = pd.read_csv(\"hackathon/prompts/benign/bad_adj_mal/bad_adj_mal_1\", header=None, sep=\"\\t\")\n",
    "df8 = pd.read_csv(\"hackathon/prompts/benign/bad_adj_mal/bad_adj_mal_2\", header=None, sep=\"\\t\")\n",
    "df9 = pd.read_csv(\"hackathon/prompts/benign/bad_adj_mal/bad_adj_mal_3\", header=None, sep=\"\\t\")\n",
    "df10 = pd.read_csv(\"hackathon/prompts/benign/bad_adj_mal/bad_adj_mal_4\", header=None, sep=\"\\t\")\n",
    "\n",
    "# Malicious prompts\n",
    "df11 = pd.read_csv(\"hackathon/prompts/malicious/good_mal/good_mal_1\", header=None, sep=\"\\t\")\n",
    "df12 = pd.read_csv(\"hackathon/prompts/malicious/good_mal/good_mal_2\", header=None, sep=\"\\t\")\n",
    "df13 = pd.read_csv(\"hackathon/prompts/malicious/good_mal/good_mal_3\", header=None, sep=\"\\t\")\n",
    "df14 = pd.read_csv(\"hackathon/prompts/malicious/good_mal/good_mal_4\", header=None, sep=\"\\t\")\n",
    "df15 = pd.read_csv(\"hackathon/prompts/malicious/bad_mal/bad_mal_1\", header=None, sep=\"\\t\")\n",
    "df16 = pd.read_csv(\"hackathon/prompts/malicious/bad_mal/bad_mal_2\", header=None, sep=\"\\t\")\n",
    "df17 = pd.read_csv(\"hackathon/prompts/malicious/bad_mal/bad_mal_3\", header=None, sep=\"\\t\")\n",
    "df18 = pd.read_csv(\"hackathon/prompts/malicious/bad_mal/bad_mal_4\", header=None, sep=\"\\t\")"
   ]
  },
  {
   "cell_type": "code",
   "execution_count": 3,
   "id": "63ec0336-a5d8-4290-8988-180358b6d6ad",
   "metadata": {},
   "outputs": [],
   "source": [
    "dfs_benign = [df1, df2, df3, df4, df5, df6, df7, df8, df9, df10]\n",
    "dfs_malicious = [df11, df12, df13, df14, df15, df16, df17, df18]\n",
    "\n",
    "for df in dfs_benign:\n",
    "    df.columns = [\"prompt\"]\n",
    "    df[\"label\"] = np.zeros(df.shape[0], dtype=int)\n",
    "    \n",
    "for df in dfs_malicious:\n",
    "    df.columns = [\"prompt\"]\n",
    "    df[\"label\"] = np.ones(df.shape[0], dtype=int)"
   ]
  },
  {
   "cell_type": "markdown",
   "id": "a744809c-b2d0-4281-a4a3-078b55a8fad6",
   "metadata": {
    "tags": []
   },
   "source": [
    "## Experiment 1: Train and test on malicious suffixes 1 and 2"
   ]
  },
  {
   "cell_type": "code",
   "execution_count": 4,
   "id": "7af7b704-b7db-42df-9c03-6f4a433df92d",
   "metadata": {},
   "outputs": [
    {
     "name": "stdout",
     "output_type": "stream",
     "text": [
      "Accuracy: 1.00\n",
      "Classification Report:\n",
      "               precision    recall  f1-score   support\n",
      "\n",
      "           0       1.00      1.00      1.00       364\n",
      "           1       1.00      1.00      1.00       234\n",
      "\n",
      "    accuracy                           1.00       598\n",
      "   macro avg       1.00      1.00      1.00       598\n",
      "weighted avg       1.00      1.00      1.00       598\n",
      "\n",
      "Confusion Matrix:\n",
      " [[364   0]\n",
      " [  0 234]]\n"
     ]
    }
   ],
   "source": [
    "# Create dataset 1 (only malicious suffixes 1 and 2)\n",
    "dfs_dataset_1 = [df1, df2, df3, df4, df7, df8, df11, df12, df15, df16]\n",
    "dataset_1 = pd.concat(dfs_dataset_1, axis=0)\n",
    "dataset_1 = dataset_1.reset_index(drop=True)\n",
    "\n",
    "# Train test split\n",
    "X = dataset_1[\"prompt\"]\n",
    "y = dataset_1[\"label\"]\n",
    "X_train, X_test, y_train, y_test = train_test_split(X, y, test_size=0.2, random_state=42)\n",
    "\n",
    "# Vectorize the textual features\n",
    "tfidf_vectorizer = TfidfVectorizer()\n",
    "X_train_tfidf = tfidf_vectorizer.fit_transform(X_train)\n",
    "X_test_tfidf = tfidf_vectorizer.transform(X_test)\n",
    "\n",
    "# Train the model\n",
    "model = LogisticRegression()\n",
    "model.fit(X_train_tfidf, y_train)\n",
    "\n",
    "# Make predictions\n",
    "y_pred = model.predict(X_test_tfidf)\n",
    "\n",
    "# Measure performance\n",
    "accuracy = accuracy_score(y_test, y_pred)\n",
    "classification_rep = classification_report(y_test, y_pred)\n",
    "confusion_mat = confusion_matrix(y_test, y_pred)\n",
    "\n",
    "print(f\"Accuracy: {accuracy:.2f}\")\n",
    "print(\"Classification Report:\\n\", classification_rep)\n",
    "print(\"Confusion Matrix:\\n\", confusion_mat)"
   ]
  },
  {
   "cell_type": "markdown",
   "id": "f1ff27a9-b972-484a-94e9-cb780f77ad5a",
   "metadata": {},
   "source": [
    "## Experiment 2: Can the model generalize to malicious suffixes 3 and 4?"
   ]
  },
  {
   "cell_type": "code",
   "execution_count": 5,
   "id": "6d028696-db6a-47bf-afbb-a41980b8b589",
   "metadata": {},
   "outputs": [],
   "source": [
    "#Create dataset 2 (only malicious suffixes 3 and 4)\n",
    "dfs_dataset_2 = [df5, df6, df9, df10, df13, df14, df17, df18]\n",
    "dataset_2 = pd.concat(dfs_dataset_2, axis=0)\n",
    "dataset_2 = dataset_2.reset_index(drop=True)"
   ]
  },
  {
   "cell_type": "code",
   "execution_count": 6,
   "id": "144c2725-f7e3-4d1c-a3bc-4e0f4b4e2205",
   "metadata": {},
   "outputs": [],
   "source": [
    "X2 = dataset_2[\"prompt\"]\n",
    "y2 = dataset_2[\"label\"]"
   ]
  },
  {
   "cell_type": "code",
   "execution_count": 7,
   "id": "abdcefb1-9bff-4c54-9d35-c7742b879aac",
   "metadata": {},
   "outputs": [],
   "source": [
    "X2_tfidf = tfidf_vectorizer.transform(X2)"
   ]
  },
  {
   "cell_type": "code",
   "execution_count": 8,
   "id": "1a54f758-2622-41b9-b47a-420d911cbcbf",
   "metadata": {},
   "outputs": [],
   "source": [
    "y2_pred = model.predict(X2_tfidf)"
   ]
  },
  {
   "cell_type": "code",
   "execution_count": 9,
   "id": "36e7c99e-8ad6-4ef1-8427-fc9093c7e34f",
   "metadata": {},
   "outputs": [
    {
     "name": "stdout",
     "output_type": "stream",
     "text": [
      "Accuracy: 0.75\n",
      "Classification Report:\n",
      "               precision    recall  f1-score   support\n",
      "\n",
      "           0       0.66      1.00      0.80      1186\n",
      "           1       1.00      0.49      0.66      1200\n",
      "\n",
      "    accuracy                           0.75      2386\n",
      "   macro avg       0.83      0.75      0.73      2386\n",
      "weighted avg       0.83      0.75      0.73      2386\n",
      "\n",
      "Confusion Matrix:\n",
      " [[1186    0]\n",
      " [ 608  592]]\n"
     ]
    }
   ],
   "source": [
    "accuracy_2 = accuracy_score(y2, y2_pred)\n",
    "classification_rep_2 = classification_report(y2, y2_pred)\n",
    "confusion_mat_2 = confusion_matrix(y2, y2_pred)\n",
    "\n",
    "print(f\"Accuracy: {accuracy_2:.2f}\")\n",
    "print(\"Classification Report:\\n\", classification_rep_2)\n",
    "print(\"Confusion Matrix:\\n\", confusion_mat_2)"
   ]
  }
 ],
 "metadata": {
  "kernelspec": {
   "display_name": "Python 3 (ipykernel)",
   "language": "python",
   "name": "python3"
  },
  "language_info": {
   "codemirror_mode": {
    "name": "ipython",
    "version": 3
   },
   "file_extension": ".py",
   "mimetype": "text/x-python",
   "name": "python",
   "nbconvert_exporter": "python",
   "pygments_lexer": "ipython3",
   "version": "3.9.13"
  }
 },
 "nbformat": 4,
 "nbformat_minor": 5
}
